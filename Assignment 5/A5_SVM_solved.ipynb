{
 "cells": [
  {
   "cell_type": "markdown",
   "id": "a39de45c-e2ce-4852-9494-f21bb9f9beb7",
   "metadata": {},
   "source": [
    "# Assignment_3 SVM"
   ]
  },
  {
   "cell_type": "code",
   "execution_count": 12,
   "id": "643e7732-dd96-47df-854f-007ec5d5e10c",
   "metadata": {},
   "outputs": [],
   "source": [
    "import numpy as np\n",
    "from matplotlib.colors import ListedColormap\n",
    "import matplotlib.pyplot as plt\n",
    "import pandas as pd\n",
    "from sklearn.pipeline import Pipeline\n",
    "from sklearn.preprocessing import StandardScaler , MinMaxScaler\n"
   ]
  },
  {
   "cell_type": "markdown",
   "id": "24b0cbf7-010c-4f1e-96e5-73d79e99a007",
   "metadata": {
    "tags": []
   },
   "source": [
    "# Part 2: SVM"
   ]
  },
  {
   "cell_type": "markdown",
   "id": "ce7b0851-a39c-4b17-99f6-a0d404a2577e",
   "metadata": {},
   "source": [
    "### Use the following function to plot the classification regions"
   ]
  },
  {
   "cell_type": "code",
   "execution_count": 13,
   "id": "8b776233-2fdd-4034-9c72-688869cdedc1",
   "metadata": {},
   "outputs": [],
   "source": [
    "def plot_class_regions_for_classifier(clf, X, y, X_test=None, y_test=None, title=None, target_names = None, plot_decision_regions = True):\n",
    "\n",
    "    numClasses = np.amax(y) + 1\n",
    "    color_list_light = ['#FFFFAA', '#EFEFEF', '#AAFFAA', '#AAAAFF']\n",
    "    color_list_bold = ['#EEEE00', '#000000', '#00CC00', '#0000CC']\n",
    "    cmap_light = ListedColormap(color_list_light[0:numClasses])\n",
    "    cmap_bold  = ListedColormap(color_list_bold[0:numClasses])\n",
    "\n",
    "    h = 0.03\n",
    "    k = 0.5\n",
    "    x_plot_adjust = 0.1\n",
    "    y_plot_adjust = 0.1\n",
    "    plot_symbol_size = 50\n",
    "\n",
    "    x_min = X[:, 0].min()\n",
    "    x_max = X[:, 0].max()\n",
    "    y_min = X[:, 1].min()\n",
    "    y_max = X[:, 1].max()\n",
    "    x2, y2 = np.meshgrid(np.arange(x_min-k, x_max+k, h), np.arange(y_min-k, y_max+k, h))\n",
    "    # np.c_ Translates slice objects to concatenation along the second axis\n",
    "    # e.g. np.c_[np.array([[1,2,3]]), 0, 0, np.array([[4,5,6]])]\n",
    "    # ravel() Returns a contiguous flattened array.\n",
    "    # x = np.array([[1, 2, 3], [4, 5, 6]])\n",
    "    # np.ravel(x) = [1 2 3 4 5 6]\n",
    "    P = clf.predict(np.c_[x2.ravel(), y2.ravel()])\n",
    "    P = P.reshape(x2.shape)\n",
    "    plt.figure()\n",
    "    if plot_decision_regions:\n",
    "        plt.contourf(x2, y2, P, cmap=cmap_light, alpha = 0.8)\n",
    "\n",
    "    plt.scatter(X[:, 0], X[:, 1], c=y, cmap=cmap_bold, s=plot_symbol_size, edgecolor = 'black')\n",
    "    plt.xlim(x_min - x_plot_adjust, x_max + x_plot_adjust)\n",
    "    plt.ylim(y_min - y_plot_adjust, y_max + y_plot_adjust)\n",
    "\n",
    "    if (X_test is not None):\n",
    "        plt.scatter(X_test[:, 0], X_test[:, 1], c=y_test, cmap=cmap_bold, s=plot_symbol_size, marker='^', edgecolor = 'black')\n",
    "        train_score = clf.score(X, y)\n",
    "        test_score  = clf.score(X_test, y_test)\n",
    "        title = title + \"\\nTrain score = {:.2f}, Test score = {:.2f}\".format(train_score, test_score)\n",
    "\n",
    "    if (target_names is not None):\n",
    "        legend_handles = []\n",
    "        for i in range(0, len(target_names)):\n",
    "            patch = mpatches.Patch(color=color_list_bold[i], label=target_names[i])\n",
    "            legend_handles.append(patch)\n",
    "        plt.legend(loc=0, handles=legend_handles)\n",
    "\n",
    "    if (title is not None):\n",
    "        plt.title(title)\n",
    "    plt.show()"
   ]
  },
  {
   "cell_type": "markdown",
   "id": "164ced46-3aab-4bb3-8be1-ce62dfbd841d",
   "metadata": {},
   "source": [
    "### Use the following dataset in questions 1, 2, and 3."
   ]
  },
  {
   "cell_type": "code",
   "execution_count": 14,
   "id": "99970010-3f35-42b7-8ae5-39e0b905db3e",
   "metadata": {},
   "outputs": [],
   "source": [
    "from sklearn.datasets import make_classification\n",
    "\n",
    "X, y = make_classification(n_samples = 100, n_features=2,\n",
    "                                n_redundant=0, n_informative=2,\n",
    "                                n_clusters_per_class=1, flip_y = 0.1,\n",
    "                                class_sep = 0.5, random_state=0)"
   ]
  },
  {
   "cell_type": "markdown",
   "id": "c4ec298b-d4af-467f-8379-cad0c7704fbf",
   "metadata": {},
   "source": [
    "#### Question 1\n",
    "Split the data into training and testing datasets (use random_state=0 and 25% of the data for testing)"
   ]
  },
  {
   "cell_type": "code",
   "execution_count": 15,
   "id": "70a204f4-9316-4b45-8ccd-18614a4fd61c",
   "metadata": {},
   "outputs": [],
   "source": [
    "from sklearn.model_selection import train_test_split\n",
    "X_train, X_test, y_train, y_test = train_test_split(X, y , random_state=0, test_size=0.25)\n"
   ]
  },
  {
   "cell_type": "markdown",
   "id": "ef0f7835-a714-4bfc-92ed-6eab6a6e24f0",
   "metadata": {},
   "source": [
    "#### Question 2\n",
    "1. Train an SVM classifier using linear kernel.\n",
    "2. Plot the classification regions using the training dataset."
   ]
  },
  {
   "cell_type": "code",
   "execution_count": 16,
   "id": "82b7faaf-35fa-4993-aedd-9cd083657726",
   "metadata": {},
   "outputs": [
    {
     "data": {
      "image/png": "[encoded data removed]",
      "text/plain": [
       "<Figure size 432x288 with 1 Axes>"
      ]
     },
     "metadata": {
      "needs_background": "light"
     },
     "output_type": "display_data"
    }
   ],
   "source": [
    "from sklearn.svm import SVC\n",
    "svm_clf = Pipeline([(\"scaler\", StandardScaler()),(\"svc\", SVC(kernel = \"linear\"))])\n",
    "svm_clf.fit(X_train, y_train)\n",
    "plot_class_regions_for_classifier(svm_clf,X_train,y_train)\n"
   ]
  },
  {
   "cell_type": "markdown",
   "id": "498f2792-e6fb-46dc-b914-ef6cfe161f17",
   "metadata": {},
   "source": [
    "#### Question 3\n",
    "1. Train an SVM classifier using linear kernel with C=0.00001.\n",
    "2. Train another SVM classifier using linear kernel with C=100\n",
    "3. Plot the classification regions for both cases using the training dataset.\n",
    "4. Comment on the results."
   ]
  },
  {
   "cell_type": "code",
   "execution_count": 17,
   "id": "8a31a9d1-90e2-484e-981b-6e103bb3bfe3",
   "metadata": {},
   "outputs": [
    {
     "data": {
      "image/png": "[encoded data removed]",
      "text/plain": [
       "<Figure size 432x288 with 1 Axes>"
      ]
     },
     "metadata": {
      "needs_background": "light"
     },
     "output_type": "display_data"
    },
    {
     "data": {
      "image/png": "[encoded data removed]",
      "text/plain": [
       "<Figure size 432x288 with 1 Axes>"
      ]
     },
     "metadata": {
      "needs_background": "light"
     },
     "output_type": "display_data"
    }
   ],
   "source": [
    "svm_clf2 = Pipeline([(\"scaler\", StandardScaler()),(\"linear_svc\", SVC(C=0.00001, kernel = \"linear\"))])\n",
    "svm_clf3 = Pipeline([(\"scaler\", StandardScaler()),(\"linear_svc\", SVC(C=100,kernel = \"linear\"))])\n",
    "svm_clf2.fit(X_train, y_train)\n",
    "svm_clf3.fit(X_train, y_train)\n",
    "\n",
    "plot_class_regions_for_classifier(svm_clf2,X_train,y_train)\n",
    "plot_class_regions_for_classifier(svm_clf3,X_train,y_train)\n",
    "\n"
   ]
  },
  {
   "cell_type": "markdown",
   "id": "857808fc-4212-4f69-a45c-300ed84ca135",
   "metadata": {},
   "source": [
    "when C=0.00001 the result classification region has high bias that it doesn't differnetiate between the two classes\n",
    "as C increases reguaization incresases which result in lower bias and if C was higher it could result in high variance (overfitting)"
   ]
  },
  {
   "cell_type": "markdown",
   "id": "aa143670-7f09-474b-b10f-6b22e735a026",
   "metadata": {},
   "source": [
    "### Use the fruits dataset in questions 4, 5, 6."
   ]
  },
  {
   "cell_type": "code",
   "execution_count": 27,
   "id": "78a7c63d-c3e4-4d70-b5d5-d25685bc9099",
   "metadata": {},
   "outputs": [],
   "source": [
    "import pandas as pd\n",
    "from sklearn.svm import LinearSVC\n",
    "fruits = pd.read_table('fruit_data_with_colors.txt')\n",
    "feature_names_fruits = ['height', 'width', 'mass', 'color_score']\n",
    "fruits['fruit_name'].replace(['apple', 'mandarin' , 'orange' , 'lemon'],[0,1 ,2, 3], inplace=True)\n"
   ]
  },
  {
   "cell_type": "markdown",
   "id": "66352dde-4078-44ab-8887-83f5692e27bb",
   "metadata": {},
   "source": [
    "#### Question 4\n",
    "1. Split the data by columns into X_fruits and y_fruits where X_fruits is the data records and y_fruits is the labels.\n",
    "2. Using only the **'height'** and **'width'** features, split the data into training and testing using random_state=0, and 25% of the data for testing.\n",
    "3. Using **sklearn LinearSVC**, train a linear svm"
   ]
  },
  {
   "cell_type": "code",
   "execution_count": 28,
   "id": "5dd1699a-1da6-4824-8fda-ec8ab5ee888d",
   "metadata": {},
   "outputs": [
    {
     "name": "stdout",
     "output_type": "stream",
     "text": [
      "{'C': 1.0, 'class_weight': None, 'dual': True, 'fit_intercept': True, 'intercept_scaling': 1, 'loss': 'squared_hinge', 'max_iter': 1000, 'multi_class': 'ovr', 'penalty': 'l2', 'random_state': None, 'tol': 0.0001, 'verbose': 0}\n"
     ]
    },
    {
     "name": "stderr",
     "output_type": "stream",
     "text": [
      "C:\\JupyterLab\\resources\\jlab_server\\lib\\site-packages\\sklearn\\svm\\_base.py:1206: ConvergenceWarning: Liblinear failed to converge, increase the number of iterations.\n",
      "  warnings.warn(\n"
     ]
    }
   ],
   "source": [
    "#1\n",
    "X_fruits = pd.DataFrame(fruits,columns = feature_names_fruits)\n",
    "y_fruits = fruits['fruit_name'].values\n",
    "#2\n",
    "X_2f = X_fruits.iloc[:,[0,1]]\n",
    "X_2farr = X_2f.values\n",
    "X_train, X_test, y_train, y_test = train_test_split(X_2farr, y_fruits , random_state=0 , test_size=0.25)\n",
    "#3\n",
    "clf =LinearSVC()\n",
    "clf.fit(X_train,y_train)\n",
    "print(clf.get_params(deep=True))\n",
    "\n",
    "\n",
    "\n",
    "\n"
   ]
  },
  {
   "cell_type": "markdown",
   "id": "a611f9a5-9b50-4254-9758-b345c0a8b004",
   "metadata": {},
   "source": [
    "#### Question 5\n",
    "For the previous model from question 4. \n",
    "1. How many SVM models have been trained? and Why?\n",
    "2. Print the models' coefficients and intercepts."
   ]
  },
  {
   "cell_type": "markdown",
   "id": "7b00d16f-e2ba-4bb1-b013-c24be23cfbd9",
   "metadata": {},
   "source": [
    "there are 4 trained models as there are 4 classes each class is trained against the rest of classes (one vs all)\n"
   ]
  },
  {
   "cell_type": "code",
   "execution_count": 29,
   "id": "a570c2fd-da23-45a9-991e-0cbaaf42a408",
   "metadata": {},
   "outputs": [
    {
     "name": "stdout",
     "output_type": "stream",
     "text": [
      "[[-0.27949594  0.47919188]\n",
      " [-1.10777685  0.7897501 ]\n",
      " [-0.01577708  0.20831936]\n",
      " [ 1.0086761  -1.26268956]]\n",
      "[-1.53104826  0.78670159 -1.7724954   0.37141851]\n"
     ]
    }
   ],
   "source": [
    "print(clf.coef_)\n",
    "print(clf.intercept_)"
   ]
  },
  {
   "cell_type": "markdown",
   "id": "38e23755-67ec-4206-82f8-510af6afb99a",
   "metadata": {},
   "source": [
    "#### Question 6\n",
    "Plot the classification boundary of each svm on a scatter plot of the training data."
   ]
  },
  {
   "cell_type": "code",
   "execution_count": 30,
   "id": "739782a7-14f3-4abb-ac5d-ae37e72338f8",
   "metadata": {},
   "outputs": [
    {
     "data": {
      "image/png": "[encoded data removed]",
      "text/plain": [
       "<Figure size 432x288 with 1 Axes>"
      ]
     },
     "metadata": {
      "needs_background": "light"
     },
     "output_type": "display_data"
    }
   ],
   "source": [
    "plot_class_regions_for_classifier(clf,X_train,y_train)\n"
   ]
  },
  {
   "cell_type": "markdown",
   "id": "2e11ad7d-6ae9-46b2-b788-ed90ea00dcfb",
   "metadata": {},
   "source": [
    "from sklearn.datasets import load_breast_cancer\n",
    "(X_cancer, y_cancer) = load_breast_cancer(return_X_y = True)### Use the breast cancer dataset in question 7, 8, and9."
   ]
  },
  {
   "cell_type": "code",
   "execution_count": 31,
   "id": "de479d67-6c2c-4be0-9526-83fe840138c4",
   "metadata": {},
   "outputs": [
    {
     "name": "stdout",
     "output_type": "stream",
     "text": [
      "(569, 30)\n"
     ]
    }
   ],
   "source": [
    "from sklearn.datasets import load_breast_cancer\n",
    "(X_cancer, y_cancer) = load_breast_cancer(return_X_y = True)\n",
    "print(X_cancer.shape)"
   ]
  },
  {
   "cell_type": "markdown",
   "id": "19edd997-56a1-4a8d-bbc8-5d53a8aa3a1a",
   "metadata": {},
   "source": [
    "#### Question 7\n",
    "1. Split the dataset into training and testing datasets, use random_state = 0, and 25% of the data for testing.\n",
    "2. Use GridSearchCV to find the best C value for and SVM classifier with rbf kernel and print the best C value. *use:*  \n",
    "```python\n",
    "parameters = {'kernel' : ('poly', 'rbf'), 'C':[0.01, 0.1, 0.5, 1, 10]}\n",
    "```\n",
    "3. Print the best parameters resulted from your grid search."
   ]
  },
  {
   "cell_type": "code",
   "execution_count": 32,
   "id": "13a88e01-c565-4a50-b213-d749f596847e",
   "metadata": {},
   "outputs": [
    {
     "name": "stdout",
     "output_type": "stream",
     "text": [
      "{'C': 1.0, 'break_ties': False, 'cache_size': 200, 'class_weight': None, 'coef0': 0.0, 'decision_function_shape': 'ovr', 'degree': 3, 'gamma': 'scale', 'kernel': 'rbf', 'max_iter': -1, 'probability': False, 'random_state': None, 'shrinking': True, 'tol': 0.001, 'verbose': False}\n"
     ]
    }
   ],
   "source": [
    "from sklearn.model_selection import GridSearchCV\n",
    "from sklearn.model_selection import train_test_split\n",
    "from sklearn import svm\n",
    "#1\n",
    "X_train, X_test, y_train, y_test = train_test_split(X_cancer, y_cancer , random_state=0, test_size=0.25)\n",
    "#2\n",
    "svm_clf = svm.SVC()\n",
    "parameters =  {'kernel' : ('poly', 'rbf'), 'C':[0.01, 0.1, 0.5, 1, 10]}\n",
    "clf_GS = GridSearchCV(svm_clf,parameters)\n",
    "clf_GS.fit(X_train, y_train)\n",
    "#3\n",
    "print(clf_GS.estimator.get_params())\n",
    "                               \n"
   ]
  },
  {
   "cell_type": "markdown",
   "id": "0b0a89ca-c6a7-4ee2-8816-f548f3d1c370",
   "metadata": {},
   "source": [
    "#### Question 8\n",
    "Train an SVM model using the best parameters resulted from question 7, then calculate and print the training and testing accuracy."
   ]
  },
  {
   "cell_type": "code",
   "execution_count": 33,
   "id": "01cff031-bb89-4312-a4e4-625d75c7063d",
   "metadata": {},
   "outputs": [
    {
     "name": "stdout",
     "output_type": "stream",
     "text": [
      "training score 0.903755868544601\n",
      "test score 0.9370629370629371\n"
     ]
    }
   ],
   "source": [
    "svm_cl1 = svm.SVC(kernel='rbf', C=1)\n",
    "svm_cl1.fit(X_train,y_train)\n",
    "print('training score' ,svm_cl1.score(X_train,y_train))\n",
    "print('test score' ,svm_cl1.score(X_test,y_test))\n",
    "\n"
   ]
  },
  {
   "cell_type": "markdown",
   "id": "04675165-358e-4881-b04c-448f78830b38",
   "metadata": {},
   "source": [
    "#### Question 9\n",
    "Improve the previous results from question 8.\n",
    "\n",
    "**Hint:** Don't change the model, instead, make some preprocessing on the data."
   ]
  },
  {
   "cell_type": "code",
   "execution_count": 34,
   "id": "7a6cacbc-c961-4b06-b2ae-31bf5e4636b0",
   "metadata": {},
   "outputs": [
    {
     "name": "stdout",
     "output_type": "stream",
     "text": [
      "training score 0.9859154929577465\n",
      "test score 0.965034965034965\n"
     ]
    }
   ],
   "source": [
    "#using standard scaler\n",
    "svm_cl2 = Pipeline([(\"scaler\", StandardScaler()),(\"svc\",svm.SVC(kernel='rbf', C=1))])\n",
    "svm_cl2.fit(X_train, y_train)\n",
    "print('training score' ,svm_cl2.score(X_train,y_train))\n",
    "print('test score' ,svm_cl2.score(X_test,y_test))\n",
    "\n"
   ]
  },
  {
   "cell_type": "code",
   "execution_count": 35,
   "id": "f2ea788c-f795-4bd3-b8df-bddc7d6b1b95",
   "metadata": {},
   "outputs": [
    {
     "name": "stdout",
     "output_type": "stream",
     "text": [
      "training score 0.9835680751173709\n",
      "test score 0.972027972027972\n"
     ]
    }
   ],
   "source": [
    "#using min-max scaler\n",
    "svm_cl3 = Pipeline([(\"scaler\", MinMaxScaler()),(\"svc\",svm.SVC(kernel='rbf', C=1))])\n",
    "svm_cl3.fit(X_train, y_train)\n",
    "print('training score' ,svm_cl3.score(X_train,y_train))\n",
    "print('test score' ,svm_cl3.score(X_test,y_test))"
   ]
  },
  {
   "cell_type": "code",
   "execution_count": null,
   "id": "24aab127-125e-42b6-ab29-d7a26783fb3b",
   "metadata": {},
   "outputs": [],
   "source": []
  },
  {
   "cell_type": "code",
   "execution_count": null,
   "id": "be0c79a2-4a2b-492c-aa75-8519db4fbfb3",
   "metadata": {},
   "outputs": [],
   "source": []
  }
 ],
 "metadata": {
  "kernelspec": {
   "display_name": "Python 3 (ipykernel)",
   "language": "python",
   "name": "python3"
  },
  "language_info": {
   "codemirror_mode": {
    "name": "ipython",
    "version": 3
   },
   "file_extension": ".py",
   "mimetype": "text/x-python",
   "name": "python",
   "nbconvert_exporter": "python",
   "pygments_lexer": "ipython3",
   "version": "3.8.12"
  }
 },
 "nbformat": 4,
 "nbformat_minor": 5
}
