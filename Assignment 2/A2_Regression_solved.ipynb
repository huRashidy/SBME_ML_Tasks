{
 "cells": [
  {
   "cell_type": "markdown",
   "id": "1a8ebf53-520f-45ca-b9ae-29a3c45cc3c5",
   "metadata": {
    "id": "1a8ebf53-520f-45ca-b9ae-29a3c45cc3c5"
   },
   "source": [
    "## Regression"
   ]
  },
  {
   "cell_type": "code",
   "execution_count": 1,
   "id": "4e43c7f6-6100-4915-80da-22c0e368a9ac",
   "metadata": {
    "id": "4e43c7f6-6100-4915-80da-22c0e368a9ac",
    "outputId": "c457ebd4-fa06-4448-c65a-c7666b5aeb59"
   },
   "outputs": [
    {
     "data": {
      "image/png": "[encoded data removed]",
      "text/plain": [
       "<Figure size 432x288 with 1 Axes>"
      ]
     },
     "metadata": {
      "needs_background": "light"
     },
     "output_type": "display_data"
    }
   ],
   "source": [
    "%matplotlib notebook\n",
    "%matplotlib inline\n",
    "\n",
    "import numpy as np\n",
    "import pandas as pd\n",
    "import matplotlib.pyplot as plt\n",
    "from sklearn.model_selection import train_test_split\n",
    "\n",
    "\n",
    "np.random.seed(0)\n",
    "n = 15\n",
    "x = np.linspace(0,10,n) + np.random.randn(n)/5\n",
    "y = np.sin(x)+x/6 + np.random.randn(n)/10\n",
    "\n",
    "\n",
    "X_train, X_test, y_train, y_test = train_test_split(x, y, random_state=0)\n",
    "\n",
    "\n",
    "plt.figure()\n",
    "plt.scatter(X_train, y_train, label='training data')\n",
    "plt.scatter(X_test, y_test, label='test data')\n",
    "plt.legend(loc=4);"
   ]
  },
  {
   "cell_type": "markdown",
   "id": "2e607277-9341-4224-ab08-1358bbbf0646",
   "metadata": {
    "id": "2e607277-9341-4224-ab08-1358bbbf0646"
   },
   "source": [
    "### Question 1.1\n",
    "Write a function that fits a polynomial LinearRegression model on the training data X_train for degrees 1, 3, 6, and 9. (Use PolynomialFeatures in sklearn.preprocessing to create the polynomial features and then fit a linear regression model) For each model, find 100 predicted values over the interval x = 0 to 10 (e.g. np.linspace(0,10,100)) and store this in a numpy array. The first row of this array should correspond to the output from the model trained on degree 1, the second row degree 3, the third row degree 6, and the fourth row degree 9."
   ]
  },
  {
   "cell_type": "code",
   "execution_count": 2,
   "id": "fb627030-cdbf-4ca3-8aae-d1299c13a8bf",
   "metadata": {
    "id": "fb627030-cdbf-4ca3-8aae-d1299c13a8bf"
   },
   "outputs": [
    {
     "data": {
      "text/plain": [
       "array([[ 2.53040195e-01,  2.69201547e-01,  2.85362899e-01,\n",
       "         3.01524251e-01,  3.17685603e-01,  3.33846955e-01,\n",
       "         3.50008306e-01,  3.66169658e-01,  3.82331010e-01,\n",
       "         3.98492362e-01,  4.14653714e-01,  4.30815066e-01,\n",
       "         4.46976417e-01,  4.63137769e-01,  4.79299121e-01,\n",
       "         4.95460473e-01,  5.11621825e-01,  5.27783177e-01,\n",
       "         5.43944529e-01,  5.60105880e-01,  5.76267232e-01,\n",
       "         5.92428584e-01,  6.08589936e-01,  6.24751288e-01,\n",
       "         6.40912640e-01,  6.57073992e-01,  6.73235343e-01,\n",
       "         6.89396695e-01,  7.05558047e-01,  7.21719399e-01,\n",
       "         7.37880751e-01,  7.54042103e-01,  7.70203454e-01,\n",
       "         7.86364806e-01,  8.02526158e-01,  8.18687510e-01,\n",
       "         8.34848862e-01,  8.51010214e-01,  8.67171566e-01,\n",
       "         8.83332917e-01,  8.99494269e-01,  9.15655621e-01,\n",
       "         9.31816973e-01,  9.47978325e-01,  9.64139677e-01,\n",
       "         9.80301028e-01,  9.96462380e-01,  1.01262373e+00,\n",
       "         1.02878508e+00,  1.04494644e+00,  1.06110779e+00,\n",
       "         1.07726914e+00,  1.09343049e+00,  1.10959184e+00,\n",
       "         1.12575320e+00,  1.14191455e+00,  1.15807590e+00,\n",
       "         1.17423725e+00,  1.19039860e+00,  1.20655995e+00,\n",
       "         1.22272131e+00,  1.23888266e+00,  1.25504401e+00,\n",
       "         1.27120536e+00,  1.28736671e+00,  1.30352807e+00,\n",
       "         1.31968942e+00,  1.33585077e+00,  1.35201212e+00,\n",
       "         1.36817347e+00,  1.38433482e+00,  1.40049618e+00,\n",
       "         1.41665753e+00,  1.43281888e+00,  1.44898023e+00,\n",
       "         1.46514158e+00,  1.48130294e+00,  1.49746429e+00,\n",
       "         1.51362564e+00,  1.52978699e+00,  1.54594834e+00,\n",
       "         1.56210969e+00,  1.57827105e+00,  1.59443240e+00,\n",
       "         1.61059375e+00,  1.62675510e+00,  1.64291645e+00,\n",
       "         1.65907781e+00,  1.67523916e+00,  1.69140051e+00,\n",
       "         1.70756186e+00,  1.72372321e+00,  1.73988457e+00,\n",
       "         1.75604592e+00,  1.77220727e+00,  1.78836862e+00,\n",
       "         1.80452997e+00,  1.82069132e+00,  1.83685268e+00,\n",
       "         1.85301403e+00],\n",
       "       [ 1.22989539e+00,  1.15143628e+00,  1.07722393e+00,\n",
       "         1.00717881e+00,  9.41221419e-01,  8.79272234e-01,\n",
       "         8.21251741e-01,  7.67080426e-01,  7.16678772e-01,\n",
       "         6.69967266e-01,  6.26866391e-01,  5.87296632e-01,\n",
       "         5.51178474e-01,  5.18432402e-01,  4.88978901e-01,\n",
       "         4.62738455e-01,  4.39631549e-01,  4.19578668e-01,\n",
       "         4.02500297e-01,  3.88316920e-01,  3.76949022e-01,\n",
       "         3.68317088e-01,  3.62341603e-01,  3.58943051e-01,\n",
       "         3.58041918e-01,  3.59558687e-01,  3.63413845e-01,\n",
       "         3.69527874e-01,  3.77821261e-01,  3.88214491e-01,\n",
       "         4.00628046e-01,  4.14982414e-01,  4.31198078e-01,\n",
       "         4.49195522e-01,  4.68895233e-01,  4.90217694e-01,\n",
       "         5.13083391e-01,  5.37412808e-01,  5.63126429e-01,\n",
       "         5.90144741e-01,  6.18388226e-01,  6.47777371e-01,\n",
       "         6.78232660e-01,  7.09674578e-01,  7.42023609e-01,\n",
       "         7.75200238e-01,  8.09124950e-01,  8.43718230e-01,\n",
       "         8.78900563e-01,  9.14592432e-01,  9.50714324e-01,\n",
       "         9.87186723e-01,  1.02393011e+00,  1.06086498e+00,\n",
       "         1.09791181e+00,  1.13499108e+00,  1.17202328e+00,\n",
       "         1.20892890e+00,  1.24562842e+00,  1.28204233e+00,\n",
       "         1.31809110e+00,  1.35369523e+00,  1.38877520e+00,\n",
       "         1.42325149e+00,  1.45704459e+00,  1.49007498e+00,\n",
       "         1.52226316e+00,  1.55352959e+00,  1.58379478e+00,\n",
       "         1.61297919e+00,  1.64100332e+00,  1.66778766e+00,\n",
       "         1.69325268e+00,  1.71731887e+00,  1.73990672e+00,\n",
       "         1.76093671e+00,  1.78032933e+00,  1.79800506e+00,\n",
       "         1.81388438e+00,  1.82788778e+00,  1.83993575e+00,\n",
       "         1.84994877e+00,  1.85784732e+00,  1.86355189e+00,\n",
       "         1.86698296e+00,  1.86806103e+00,  1.86670656e+00,\n",
       "         1.86284006e+00,  1.85638200e+00,  1.84725286e+00,\n",
       "         1.83537314e+00,  1.82066332e+00,  1.80304388e+00,\n",
       "         1.78243530e+00,  1.75875808e+00,  1.73193269e+00,\n",
       "         1.70187963e+00,  1.66851936e+00,  1.63177240e+00,\n",
       "         1.59155920e+00],\n",
       "       [-1.99554310e-01, -3.95192728e-03,  1.79851752e-01,\n",
       "         3.51005136e-01,  5.08831706e-01,  6.52819233e-01,\n",
       "         7.82609240e-01,  8.97986721e-01,  9.98870117e-01,\n",
       "         1.08530155e+00,  1.15743729e+00,  1.21553852e+00,\n",
       "         1.25996233e+00,  1.29115292e+00,  1.30963316e+00,\n",
       "         1.31599632e+00,  1.31089811e+00,  1.29504889e+00,\n",
       "         1.26920626e+00,  1.23416782e+00,  1.19076415e+00,\n",
       "         1.13985218e+00,  1.08230867e+00,  1.01902405e+00,\n",
       "         9.50896441e-01,  8.78825970e-01,  8.03709344e-01,\n",
       "         7.26434655e-01,  6.47876457e-01,  5.68891088e-01,\n",
       "         4.90312256e-01,  4.12946874e-01,  3.37571147e-01,\n",
       "         2.64926923e-01,  1.95718291e-01,  1.30608438e-01,\n",
       "         7.02167560e-02,  1.51162118e-02, -3.41690366e-02,\n",
       "        -7.71657636e-02, -1.13453547e-01, -1.42666382e-01,\n",
       "        -1.64494044e-01, -1.78683194e-01, -1.85038228e-01,\n",
       "        -1.83421873e-01, -1.73755533e-01, -1.56019368e-01,\n",
       "        -1.30252132e-01, -9.65507462e-02, -5.50696232e-02,\n",
       "        -6.01973201e-03,  5.03325883e-02,  1.13667071e-01,\n",
       "         1.83611221e-01,  2.59742264e-01,  3.41589357e-01,\n",
       "         4.28636046e-01,  5.20322987e-01,  6.16050916e-01,\n",
       "         7.15183874e-01,  8.17052690e-01,  9.20958717e-01,\n",
       "         1.02617782e+00,  1.13196463e+00,  1.23755703e+00,\n",
       "         1.34218093e+00,  1.44505526e+00,  1.54539723e+00,\n",
       "         1.64242789e+00,  1.73537785e+00,  1.82349336e+00,\n",
       "         1.90604254e+00,  1.98232198e+00,  2.05166348e+00,\n",
       "         2.11344114e+00,  2.16707864e+00,  2.21205680e+00,\n",
       "         2.24792141e+00,  2.27429129e+00,  2.29086658e+00,\n",
       "         2.29743739e+00,  2.29389257e+00,  2.28022881e+00,\n",
       "         2.25656001e+00,  2.22312684e+00,  2.18030664e+00,\n",
       "         2.12862347e+00,  2.06875850e+00,  2.00156065e+00,\n",
       "         1.92805743e+00,  1.84946605e+00,  1.76720485e+00,\n",
       "         1.68290491e+00,  1.59842194e+00,  1.51584842e+00,\n",
       "         1.43752602e+00,  1.36605824e+00,  1.30432333e+00,\n",
       "         1.25548743e+00],\n",
       "       [ 6.79500612e+00,  4.14318998e+00,  2.23122867e+00,\n",
       "         9.10494377e-01,  5.49813276e-02, -4.41342236e-01,\n",
       "        -6.66947662e-01, -6.94940004e-01, -5.85046923e-01,\n",
       "        -3.85416091e-01, -1.34234180e-01,  1.38819992e-01,\n",
       "         4.11276218e-01,  6.66716104e-01,  8.93747846e-01,\n",
       "         1.08510221e+00,  1.23683987e+00,  1.34766072e+00,\n",
       "         1.41830637e+00,  1.45104735e+00,  1.44924714e+00,\n",
       "         1.41699564e+00,  1.35880484e+00,  1.27936035e+00,\n",
       "         1.18332239e+00,  1.07517056e+00,  9.59087037e-01,\n",
       "         8.38873059e-01,  7.17894199e-01,  5.99050039e-01,\n",
       "         4.84764363e-01,  3.76992216e-01,  2.77240570e-01,\n",
       "         1.86599593e-01,  1.05781836e-01,  3.51669308e-02,\n",
       "        -2.51503343e-02, -7.53104392e-02, -1.15639691e-01,\n",
       "        -1.46602307e-01, -1.68755204e-01, -1.82706444e-01,\n",
       "        -1.89078113e-01, -1.88474202e-01, -1.81453906e-01,\n",
       "        -1.68510572e-01, -1.50056387e-01, -1.26412780e-01,\n",
       "        -9.78063396e-02, -6.43699860e-02, -2.61489964e-02,\n",
       "         1.68885845e-02,  6.48377042e-02,  1.17838850e-01,\n",
       "         1.76058056e-01,  2.39665079e-01,  3.08810491e-01,\n",
       "         3.83602438e-01,  4.64083831e-01,  5.50210732e-01,\n",
       "         6.41832652e-01,  7.38675488e-01,  8.40327741e-01,\n",
       "         9.46230632e-01,  1.05567264e+00,  1.16778895e+00,\n",
       "         1.28156611e+00,  1.39585223e+00,  1.50937286e+00,\n",
       "         1.62075248e+00,  1.72854158e+00,  1.83124901e+00,\n",
       "         1.92737915e+00,  2.01547329e+00,  2.09415438e+00,\n",
       "         2.16217430e+00,  2.21846210e+00,  2.26217218e+00,\n",
       "         2.29273035e+00,  2.30987610e+00,  2.31369872e+00,\n",
       "         2.30466493e+00,  2.28363515e+00,  2.25186546e+00,\n",
       "         2.21099178e+00,  2.16299270e+00,  2.11012689e+00,\n",
       "         2.05484069e+00,  1.99964122e+00,  1.94692990e+00,\n",
       "         1.89879087e+00,  1.85672849e+00,  1.82134767e+00,\n",
       "         1.79197016e+00,  1.76617995e+00,  1.73928997e+00,\n",
       "         1.70372222e+00,  1.64829275e+00,  1.55739256e+00,\n",
       "         1.41005493e+00]])"
      ]
     },
     "execution_count": 2,
     "metadata": {},
     "output_type": "execute_result"
    }
   ],
   "source": [
    "def answer_one():\n",
    "    from sklearn.linear_model import LinearRegression\n",
    "    from sklearn.preprocessing import PolynomialFeatures\n",
    "    X_train1 = np.linspace(0,10,100).reshape(100,1)\n",
    "    # X_train3 = np.linspace(0,10,100).reshape(1,100)\n",
    "    # X_train6 = np.linspace(0,10,100).reshape(1,100)\n",
    "    # X_train9 = np.linspace(0,10,100).reshape(1,100)\n",
    "\n",
    "    def getY(i):\n",
    "        poly = PolynomialFeatures(degree=i)\n",
    "        X_poly= poly.fit_transform(X_train.reshape(11,1))\n",
    "        linreg= LinearRegression().fit(X_poly , y_train.reshape(11,1))\n",
    "        y_pred = linreg.predict(poly.fit_transform(X_train1))\n",
    "        return y_pred.reshape(1,100)\n",
    "    \n",
    "    \n",
    "    results = getY(1)\n",
    "    for i in [3,6,9]:\n",
    "          temp = getY(i)\n",
    "          results = np.vstack([results , temp ] ) \n",
    "\n",
    "\n",
    "    return results\n",
    "\n",
    "answer_one()"
   ]
  },
  {
   "cell_type": "markdown",
   "id": "f5bc45ee-5103-45c1-9190-efb9be138834",
   "metadata": {
    "id": "f5bc45ee-5103-45c1-9190-efb9be138834"
   },
   "source": [
    "### Fitted model plot"
   ]
  },
  {
   "cell_type": "code",
   "execution_count": 3,
   "id": "d2195f91-2cc3-40fe-846e-cc3fc5f43426",
   "metadata": {
    "id": "d2195f91-2cc3-40fe-846e-cc3fc5f43426"
   },
   "outputs": [
    {
     "data": {
      "image/png": "[encoded data removed]",
      "text/plain": [
       "<Figure size 720x360 with 1 Axes>"
      ]
     },
     "metadata": {
      "needs_background": "light"
     },
     "output_type": "display_data"
    }
   ],
   "source": [
    "def plot_one(degree_predictions):\n",
    "    import matplotlib.pyplot as plt\n",
    "    plt.figure(figsize=(10,5))\n",
    "    plt.plot(X_train, y_train, 'o', label='training data', markersize=10)\n",
    "    plt.plot(X_test, y_test, 'o', label='test data', markersize=10)\n",
    "    for i,degree in enumerate([1,3,6,9]):\n",
    "        plt.plot(np.linspace(0,10,100), degree_predictions[i], alpha=0.8, lw=2, label='degree={}'.format(degree))\n",
    "    plt.ylim(-1,2.5)\n",
    "    plt.legend(loc=4)\n",
    "\n",
    "plot_one(answer_one())"
   ]
  },
  {
   "cell_type": "markdown",
   "id": "7e534f81-8e9c-48dd-b840-829166b32612",
   "metadata": {
    "id": "7e534f81-8e9c-48dd-b840-829166b32612"
   },
   "source": [
    "### Question 1.2\n",
    "Comment on the figure above"
   ]
  },
  {
   "cell_type": "markdown",
   "id": "754f72d1-798c-46d3-9a36-4de0af874e92",
   "metadata": {
    "id": "754f72d1-798c-46d3-9a36-4de0af874e92"
   },
   "source": [
    "### Quick note on $R^2$-score:\n",
    "Best possible score is 1.0 and it can be negative (because the model can be arbitrarily worse). A constant model that always predicts the expected value of y, disregarding the input features, would get a $R^2$-score of 0.0.\n",
    "\n",
    "### Question 2\n",
    "Write a function that fits a polynomial LinearRegression model on the training data `X_train` for degrees 0 through 9. For each model compute the $R^2$ regression score on the training data as well as the the test data, and return both of these arrays in a tuple.\n",
    "\n",
    "*This function should return one tuple of numpy arrays `(r2_train, r2_test)`. Both arrays should have shape `(10,)`*"
   ]
  },
  {
   "cell_type": "code",
   "execution_count": 4,
   "id": "7a317990-858a-4ed6-bc4c-7a2ce385746a",
   "metadata": {
    "id": "7a317990-858a-4ed6-bc4c-7a2ce385746a"
   },
   "outputs": [
    {
     "data": {
      "text/plain": [
       "array([[0.   , 0.   ],\n",
       "       [0.429, 0.001],\n",
       "       [0.451, 0.956],\n",
       "       [0.587, 1.   ],\n",
       "       [0.919, 1.   ],\n",
       "       [0.976, 1.   ],\n",
       "       [0.99 , 1.   ],\n",
       "       [0.994, 1.   ],\n",
       "       [0.996, 1.   ],\n",
       "       [0.998, 1.   ]])"
      ]
     },
     "execution_count": 4,
     "metadata": {},
     "output_type": "execute_result"
    }
   ],
   "source": [
    "def answer_two():\n",
    "    from sklearn.linear_model import LinearRegression\n",
    "    from sklearn.preprocessing import PolynomialFeatures\n",
    "    from sklearn.metrics import r2_score\n",
    "    \n",
    "    # your code here\n",
    "    \n",
    "    score =np.array([])\n",
    "    def getYtrain(i):\n",
    "        poly = PolynomialFeatures(degree=i)\n",
    "        X_poly= poly.fit_transform(X_train.reshape(11,1))\n",
    "        regr = LinearRegression()\n",
    "        regr.fit(X_poly , y_train.reshape(11,1))\n",
    "        ypred = regr.predict(X_poly)\n",
    "        return r2_score(y_train.reshape(11,1), ypred)\n",
    "    \n",
    "    def getYtest(i):\n",
    "        poly = PolynomialFeatures(degree=i)\n",
    "        X_poly= poly.fit_transform(X_test.reshape(4,1))\n",
    "        regr = LinearRegression()\n",
    "        regr.fit(X_poly , y_test.reshape(4,1))\n",
    "        y_pred = regr.predict(X_poly)\n",
    "        return r2_score(y_test,y_pred)\n",
    "    \n",
    "    \n",
    "    for i in range(0,10):\n",
    "        (rtrain , rtest) = getYtrain(i) , getYtest(i)\n",
    "        score = np.append(score,  [round(rtrain,3),round(rtest,3)])    \n",
    "    \n",
    "    return score.reshape(10,2)\n",
    "answer_two()"
   ]
  },
  {
   "cell_type": "markdown",
   "id": "62d15124-54d3-44d3-80cc-ec9efd7f18ec",
   "metadata": {
    "id": "62d15124-54d3-44d3-80cc-ec9efd7f18ec"
   },
   "source": [
    "### Question 3\n",
    "Plot $R^2$ scores at degrees from 0 to 9.\n",
    "\n",
    "Based on the $R^2$ scores (degree levels 0 through 9), what degree level corresponds to a model that is underfitting? What degree level corresponds to a model that is overfitting? What choice of degree level would provide a model with good generalization performance on this dataset? "
   ]
  },
  {
   "cell_type": "code",
   "execution_count": 5,
   "id": "9144583b-b878-4eaa-8860-8860b933ec23",
   "metadata": {
    "id": "9144583b-b878-4eaa-8860-8860b933ec23"
   },
   "outputs": [
    {
     "data": {
      "text/plain": [
       "<matplotlib.legend.Legend at 0x23705d560d0>"
      ]
     },
     "execution_count": 5,
     "metadata": {},
     "output_type": "execute_result"
    },
    {
     "data": {
      "image/png": "[encoded data removed]",
      "text/plain": [
       "<Figure size 576x432 with 1 Axes>"
      ]
     },
     "metadata": {
      "needs_background": "light"
     },
     "output_type": "display_data"
    }
   ],
   "source": [
    "    # degrees 0 to 3 are underfitting \n",
    "    # overfitting happens when r scores for trianing is too high and low for test which didn't happen in these models\n",
    "    # 4th degree is the best because it is the easiest in computation comparing to higher dgrees and the highest R score for test\n",
    "    \n",
    "    \n",
    "    degrees = np.linspace(0,9,10)\n",
    "    degrees = degrees.tolist()\n",
    "    Rs = answer_two()\n",
    "    rtrain = Rs[:,0].tolist()\n",
    "    rtest = Rs[:,1].tolist() \n",
    "    fig, ax = plt.subplots(figsize=(8,6))\n",
    "    ax.set_xticks(range(10))\n",
    "    ax.set_xlabel('degrees')\n",
    "    ax.plot(degrees ,rtest, label='test score')\n",
    "    ax.plot(degrees , rtrain , label='train score')\n",
    "    ax.legend()\n",
    "    "
   ]
  },
  {
   "cell_type": "markdown",
   "id": "9639d156-3294-4eff-8042-2617d01aa163",
   "metadata": {
    "id": "9639d156-3294-4eff-8042-2617d01aa163"
   },
   "source": [
    "### Question 4\n",
    "\n",
    "Training models on high degree polynomial features can result in overly complex models that overfit, so we often use regularized versions of the model to constrain model complexity, as we saw with Ridge and Lasso linear regression.\n",
    "\n",
    "For this question, train two models: a non-regularized LinearRegression model (default parameters) and a regularized Lasso Regression model (with parameters `alpha=0.01`, `max_iter=10000`) both on polynomial features of degree 12. Return the $R^2$ score for both the LinearRegression and Lasso model's test sets.\n",
    "\n",
    "*This function should return one tuple `(LinearRegression_R2_test_score, Lasso_R2_test_score)`*\n",
    "\n",
    "**Comment on the results**"
   ]
  },
  {
   "cell_type": "code",
   "execution_count": 6,
   "id": "955af3a4-c485-499b-999e-5db09dbfeb25",
   "metadata": {
    "id": "955af3a4-c485-499b-999e-5db09dbfeb25"
   },
   "outputs": [
    {
     "name": "stderr",
     "output_type": "stream",
     "text": [
      "C:\\JupyterLab\\resources\\jlab_server\\lib\\site-packages\\sklearn\\linear_model\\_coordinate_descent.py:647: ConvergenceWarning: Objective did not converge. You might want to increase the number of iterations, check the scale of the features or consider increasing regularisation. Duality gap: 3.556e-01, tolerance: 6.895e-04\n",
      "  model = cd_fast.enet_coordinate_descent(\n"
     ]
    },
    {
     "data": {
      "text/plain": [
       "(-4.311980555741178, 0.8406625614750356)"
      ]
     },
     "execution_count": 6,
     "metadata": {},
     "output_type": "execute_result"
    }
   ],
   "source": [
    "def answer_four():\n",
    "    from sklearn.preprocessing import PolynomialFeatures\n",
    "    from sklearn.linear_model import Lasso, LinearRegression\n",
    "    from sklearn.metrics import r2_score\n",
    "\n",
    "    # your code here\n",
    "    def getYLinear(i):\n",
    "        poly = PolynomialFeatures(degree=i)\n",
    "        X_poly= poly.fit_transform(X_train.reshape(11,1))\n",
    "        regr = LinearRegression().fit(X_poly , y_train.reshape(11,1))\n",
    "        ypred = regr.predict(poly.fit_transform(X_test.reshape(4,1)))\n",
    "        return r2_score(y_test.reshape(4,1), ypred)\n",
    "    \n",
    "    def getYLasso(i):\n",
    "        poly = PolynomialFeatures(degree=i)\n",
    "        X_poly= poly.fit_transform(X_train.reshape(11,1))\n",
    "        linreg= Lasso(alpha = 0.01 , max_iter=10000).fit(X_poly , y_train.reshape(11,1))\n",
    "        y_pred = linreg.predict(poly.fit_transform(X_test.reshape(4,1)))\n",
    "        return  r2_score(y_test.reshape(4,1), y_pred)\n",
    "\n",
    "    LR , Lasso = getYLinear(12) , getYLasso(12)\n",
    "    \n",
    "    return (LR , Lasso)\n",
    "answer_four()"
   ]
  },
  {
   "cell_type": "markdown",
   "id": "670d7fc9-9c5a-4c69-84af-80f77afcd285",
   "metadata": {
    "id": "670d7fc9-9c5a-4c69-84af-80f77afcd285"
   },
   "source": [
    "### Question 5\n",
    "Calculate total mean square error.\n",
    "$$\n",
    "MSE = E[ (ytrue  - yhat)^2 ] \n",
    "$$\n",
    "\n",
    "Then compare your results with scikit-learn implementation of mean square error."
   ]
  },
  {
   "cell_type": "code",
   "execution_count": 7,
   "id": "7533c60a-ddb7-4603-93be-0a5a6d528899",
   "metadata": {
    "id": "7533c60a-ddb7-4603-93be-0a5a6d528899"
   },
   "outputs": [],
   "source": [
    "from sklearn.metrics import mean_squared_error\n",
    "def mse(y_true, y_pred):\n",
    "    ########### write code here #############\n",
    "    imp = (1/(2*m))* np.sum(np.array(y_true-y_pred)) \n",
    "    skmse = mean_squared_error(y_true,y_pred)\n",
    "    error = abs(imp-skmse)\n",
    "    return error\n"
   ]
  },
  {
   "cell_type": "markdown",
   "id": "7edf7ed9-d215-4e80-be58-cc78711aa4cb",
   "metadata": {
    "id": "7edf7ed9-d215-4e80-be58-cc78711aa4cb",
    "tags": []
   },
   "source": [
    "### Question 6\n",
    "Implement a linear regression class that can be used by one of the following three optoins (according to user's choice):\n",
    "1. Ordinary Linear Regression Class \n",
    "2. Implement Ridge Regression Class\n",
    "3. Implement Lasso Regression Class"
   ]
  },
  {
   "cell_type": "code",
   "execution_count": null,
   "id": "42fe1d16-63ab-45b9-8c96-b08aa5509720",
   "metadata": {
    "id": "42fe1d16-63ab-45b9-8c96-b08aa5509720"
   },
   "outputs": [],
   "source": []
  },
  {
   "cell_type": "code",
   "execution_count": 15,
   "id": "8f0526c6-de16-4cbf-9ea8-1d3bde19c7be",
   "metadata": {},
   "outputs": [
    {
     "name": "stderr",
     "output_type": "stream",
     "text": [
      "Access is denied.\n"
     ]
    }
   ],
   "source": [
    "!pip install openml\n"
   ]
  },
  {
   "cell_type": "markdown",
   "id": "emmYg8T0Le4b",
   "metadata": {
    "id": "emmYg8T0Le4b"
   },
   "source": [
    "### Part 2\n",
    "Run the following cells to download fmnist dataset which will be used for the rest of the assignment."
   ]
  },
  {
   "cell_type": "code",
   "execution_count": 14,
   "id": "YlU30eQGJzrn",
   "metadata": {
    "colab": {
     "base_uri": "https://localhost:8080/"
    },
    "id": "YlU30eQGJzrn",
    "outputId": "693ba550-5c43-46db-c155-e512dc21c65e"
   },
   "outputs": [
    {
     "ename": "ModuleNotFoundError",
     "evalue": "No module named 'openml'",
     "output_type": "error",
     "traceback": [
      "\u001b[1;31m---------------------------------------------------------------------------\u001b[0m",
      "\u001b[1;31mModuleNotFoundError\u001b[0m                       Traceback (most recent call last)",
      "Input \u001b[1;32mIn [14]\u001b[0m, in \u001b[0;36m<module>\u001b[1;34m\u001b[0m\n\u001b[0;32m      4\u001b[0m \u001b[38;5;28;01mimport\u001b[39;00m \u001b[38;5;21;01mpandas\u001b[39;00m \u001b[38;5;28;01mas\u001b[39;00m \u001b[38;5;21;01mpd\u001b[39;00m\n\u001b[0;32m      5\u001b[0m \u001b[38;5;28;01mimport\u001b[39;00m \u001b[38;5;21;01mmatplotlib\u001b[39;00m\u001b[38;5;21;01m.\u001b[39;00m\u001b[38;5;21;01mpyplot\u001b[39;00m \u001b[38;5;28;01mas\u001b[39;00m \u001b[38;5;21;01mplt\u001b[39;00m\n\u001b[1;32m----> 6\u001b[0m \u001b[38;5;28;01mimport\u001b[39;00m \u001b[38;5;21;01mopenml\u001b[39;00m \u001b[38;5;28;01mas\u001b[39;00m \u001b[38;5;21;01moml\u001b[39;00m\n\u001b[0;32m      7\u001b[0m \u001b[38;5;28;01mfrom\u001b[39;00m \u001b[38;5;21;01mmatplotlib\u001b[39;00m \u001b[38;5;28;01mimport\u001b[39;00m cm\n",
      "\u001b[1;31mModuleNotFoundError\u001b[0m: No module named 'openml'"
     ]
    }
   ],
   "source": [
    "\n",
    "# General imports\n",
    "%matplotlib inline\n",
    "import numpy as np\n",
    "import pandas as pd\n",
    "import matplotlib.pyplot as plt\n",
    "import openml as oml\n",
    "from matplotlib import cm\n"
   ]
  },
  {
   "cell_type": "code",
   "execution_count": 3,
   "id": "tWkS5GDaJzrt",
   "metadata": {
    "id": "tWkS5GDaJzrt"
   },
   "outputs": [],
   "source": [
    "# Download FMINST data. Takes a while the first time.\n",
    "fmnist = oml.datasets.get_dataset(40996)\n",
    "X, y, _, _ = fmnist.get_data(target=fmnist.default_target_attribute); \n",
    "fmnist_classes = {0:\"T-shirt/top\", 1: \"Trouser\", 2: \"Pullover\", 3: \"Dress\", 4: \"Coat\", 5: \"Sandal\", \n",
    "                  6: \"Shirt\", 7: \"Sneaker\", 8: \"Bag\", 9: \"Ankle boot\"}"
   ]
  },
  {
   "cell_type": "code",
   "execution_count": null,
   "id": "GcdPzEL3Jzrv",
   "metadata": {
    "id": "GcdPzEL3Jzrv",
    "outputId": "a8db4230-1339-48dd-98de-f3cd921b1dc7"
   },
   "outputs": [
    {
     "data": {
      "application/pdf": "[encoded data removed]",
      "image/png": "[encoded data removed]",
      "text/plain": [
       "<Figure size 720x360 with 5 Axes>"
      ]
     },
     "metadata": {},
     "output_type": "display_data"
    }
   ],
   "source": [
    "# Take some random examples, reshape to a 32x32 image and plot\n",
    "from random import randint\n",
    "fig, axes = plt.subplots(1, 5,  figsize=(10, 5))\n",
    "for i in range(5):\n",
    "    n = randint(0,70000)\n",
    "    axes[i].imshow(X.values[n].reshape(28, 28), cmap=plt.cm.gray_r)\n",
    "    axes[i].set_xlabel((fmnist_classes[int(y.values[n])]))\n",
    "    axes[i].set_xticks(()), axes[i].set_yticks(())\n",
    "plt.show();"
   ]
  },
  {
   "cell_type": "markdown",
   "id": "oS5IKHcQJzr0",
   "metadata": {
    "id": "oS5IKHcQJzr0"
   },
   "source": [
    "### Question 7\n",
    "First, we'll try the default Logistic Regression and k-Nearest Neighbors as a point of reference. To see whether our models are overfitting, we also evaluate the training set error. This can be done using cross_validation.\n",
    "\n",
    "Implement the following `evaluate_learners` function which evaluates each classifier passed into it on the given data, and then returns both the train and test scores of each as a list. You must use `cross_validate` function."
   ]
  },
  {
   "cell_type": "code",
   "execution_count": null,
   "id": "9PbuKzv0Jzr2",
   "metadata": {
    "id": "9PbuKzv0Jzr2"
   },
   "outputs": [],
   "source": [
    "from sklearn.model_selection import train_test_split, cross_validate\n",
    "from sklearn.linear_model import LogisticRegression\n",
    "from sklearn.neighbors import KNeighborsClassifier\n",
    "\n",
    "# Take a 10% stratified subsample to speed up experimentation\n",
    "Xs, _, ys, _ = train_test_split(X,y, stratify=y, train_size=0.1)"
   ]
  },
  {
   "cell_type": "code",
   "execution_count": null,
   "id": "3hCChU5eNZZh",
   "metadata": {
    "id": "3hCChU5eNZZh"
   },
   "outputs": [],
   "source": [
    "def evaluate_learners(classifiers, X, y):\n",
    "    \"\"\" Evaluate each classifier in 'classifiers' with cross-validation on the provided (X, y) data. \n",
    "    \n",
    "    Given a list of scikit-learn classifiers [Classifier1, Classifier2, ..., ClassifierN] return two lists:\n",
    "     - a list with the scores obtained on the training samples for each classifier,\n",
    "     - a list with the test scores obtained on the test samples for each classifier.\n",
    "     The order of scores should match the order in which the classifiers were originally provided. E.g.:     \n",
    "     [Classifier1 train score, ..., ClassifierN train score], [Classifier1 test score, ..., ClassifierN test score]\n",
    "    \"\"\"\n",
    "    ########## write your code here ##############\n",
    "\n",
    "# # Example output:\n",
    "# train_scores, test_scores = ([[0.92 , 0.924, 0.916, 0.917, 0.921],  # Classifier 1 train score for each of 5 folds.\n",
    "#                               [0.963, 0.962, 0.953, 0.912, 0.934],  # Classifier 2 train score for each of 5 folds.\n",
    "#                              [[0.801, 0.811, 0.806, 0.826, 0.804],  # Classifier 1 test score for each of 5 folds.\n",
    "#                               [0.766, 0.756, 0.773, 0.756, 0.741],  # Classifier 2 test score for each of 5 folds."
   ]
  },
  {
   "cell_type": "markdown",
   "id": "ulrYcGL0Jzr5",
   "metadata": {
    "id": "ulrYcGL0Jzr5"
   },
   "source": [
    "With this small sample of our data we can now train and evaluate the two classifiers."
   ]
  },
  {
   "cell_type": "code",
   "execution_count": null,
   "id": "vxjpMG0yJzsG",
   "metadata": {
    "id": "vxjpMG0yJzsG"
   },
   "outputs": [],
   "source": [
    "classifiers = [LogisticRegression(), KNeighborsClassifier()]\n",
    "train_scores, test_scores = evaluate_learners(classifiers, Xs, ys)"
   ]
  },
  {
   "cell_type": "markdown",
   "id": "xVcekWmyOGcr",
   "metadata": {
    "id": "xVcekWmyOGcr"
   },
   "source": [
    "Print train scores and test scores."
   ]
  },
  {
   "cell_type": "code",
   "execution_count": null,
   "id": "A18q8L6POFLS",
   "metadata": {
    "id": "A18q8L6POFLS"
   },
   "outputs": [],
   "source": []
  },
  {
   "cell_type": "markdown",
   "id": "EfdOLXjqJzsL",
   "metadata": {
    "id": "EfdOLXjqJzsL"
   },
   "source": [
    "### Regularization\n",
    "We will now tune these algorithm's main regularization hyperparameter: the regularization parameter in logistic regression (alpha), and the number of neighbors (n_neighbors) in kNN. We expect the optimum for n_neighbors between 1 and 50. Alpha should be varied on a log scale (i.e. [0.01, 0.1, 1, 10, 100]) and k should be varied uniformly (i.e. [1,2,3,4])."
   ]
  },
  {
   "cell_type": "markdown",
   "id": "yYKvKt7dJzsM",
   "metadata": {
    "id": "yYKvKt7dJzsM"
   },
   "source": [
    "### Question 8\n",
    "In the following cells we vary the regularization parameters in the range given above and, for each classifier, we create a line plot that plots both the training and test score for every value of the regularization hyperparameter. Hence, 2 plots are produced, one for each classifier. We use 5-fold cross validation for all scores, but only plot the means.\n"
   ]
  },
  {
   "cell_type": "code",
   "execution_count": 4,
   "id": "10V7DVZHJzsO",
   "metadata": {
    "id": "10V7DVZHJzsO"
   },
   "outputs": [],
   "source": [
    "from sklearn.model_selection import GridSearchCV\n",
    "\n",
    "param_c = {'C': np.logspace(-12, 12, num=22)}\n",
    "param_k = {'n_neighbors': np.geomspace(1, 60, num=12, dtype=int)[1:]}\n",
    "grids = [param_c, param_k]\n",
    "grid_searches = [GridSearchCV(clf, grid, n_jobs=-1, cv=3, return_train_score=True).fit(Xs, ys) for clf,grid in zip(classifiers,grids)]"
   ]
  },
  {
   "cell_type": "code",
   "execution_count": null,
   "id": "ODTYQLiDJzsP",
   "metadata": {
    "id": "ODTYQLiDJzsP"
   },
   "outputs": [],
   "source": [
    "# Generic plot for 1D grid search\n",
    "# grid_search: the result of the GridSearchCV\n",
    "# param_name: the name of the parameter that is being varied\n",
    "def plot_tuning(grid_search, param_name, ax):\n",
    "    ax.plot(grid_search.param_grid[param_name], grid_search.cv_results_['mean_test_score'], marker = '.', label = 'Test score')\n",
    "    ax.plot(grid_search.param_grid[param_name], grid_search.cv_results_['mean_train_score'], marker = '.', label = 'Train score')\n",
    "    ax.set_ylabel('score (ACC)')\n",
    "    ax.set_xlabel(param_name)\n",
    "    ax.legend()\n",
    "    ax.set_xscale('log')\n",
    "    ax.set_title(grid_search.best_estimator_.__class__.__name__)\n",
    "    bp, bs = grid_search.best_params_[param_name], grid_search.best_score_\n",
    "    ax.text(bp,bs,\"  C:{:.2E}, ACC:{:.4f}\".format(bp,bs))"
   ]
  },
  {
   "cell_type": "code",
   "execution_count": null,
   "id": "12Asy97BJzsQ",
   "metadata": {
    "id": "12Asy97BJzsQ"
   },
   "outputs": [],
   "source": [
    "fig, axes = plt.subplots(nrows=1, ncols=2, figsize=(15,5))\n",
    "for grid_search, param, ax in zip(grid_searches,['Alpha','n_neighbors'],axes):\n",
    "    plot_tuning(grid_search, param, ax)"
   ]
  },
  {
   "cell_type": "markdown",
   "id": "nDIaS4hdJzsR",
   "metadata": {
    "id": "nDIaS4hdJzsR"
   },
   "source": [
    "Interpret the plots. When are the methods underfitting? When are they overfitting? How sensitive are they to the regularization hyperparameter?"
   ]
  },
  {
   "cell_type": "markdown",
   "id": "Nkx3Tk6eQNZZ",
   "metadata": {
    "id": "Nkx3Tk6eQNZZ"
   },
   "source": []
  },
  {
   "cell_type": "markdown",
   "id": "M38w43WMJzsT",
   "metadata": {
    "id": "M38w43WMJzsT"
   },
   "source": [
    "## Interpreting misclassifications\n",
    "We train a logistic regression model on the data to look at the confusion matrix"
   ]
  },
  {
   "cell_type": "code",
   "execution_count": null,
   "id": "e053mAmiJzsT",
   "metadata": {
    "id": "e053mAmiJzsT"
   },
   "outputs": [],
   "source": [
    "# Create a stratified train-test split on a sample\n",
    "X_train, X_test, y_train, y_test = train_test_split(Xs,ys, stratify=ys, random_state=0)"
   ]
  },
  {
   "cell_type": "code",
   "execution_count": null,
   "id": "CtKoZLYuJzsV",
   "metadata": {
    "id": "CtKoZLYuJzsV"
   },
   "outputs": [],
   "source": [
    "# model implementation:\n",
    "model = LogisticRegression(C=1e-7).fit(X_train,y_train)\n",
    "y_pred = model.predict(X_test)"
   ]
  },
  {
   "cell_type": "markdown",
   "id": "DWVZMBfvJzsZ",
   "metadata": {
    "id": "DWVZMBfvJzsZ"
   },
   "source": [
    "### Question 9\n",
    "A confusion matrix shows the amount of examples in for each pair of true and predicted classes. Interpret the results. Draw the complete confusion matrix for the true and predicted test data."
   ]
  },
  {
   "cell_type": "code",
   "execution_count": null,
   "id": "zr_wfcVvR_D5",
   "metadata": {
    "id": "zr_wfcVvR_D5"
   },
   "outputs": [],
   "source": [
    "#### Code for calculating the confusion matrix\n",
    "cm = ################"
   ]
  },
  {
   "cell_type": "code",
   "execution_count": null,
   "id": "vX-Tp2KMJzsZ",
   "metadata": {
    "id": "vX-Tp2KMJzsZ"
   },
   "outputs": [],
   "source": [
    "fig, ax = plt.subplots()\n",
    "im = ax.imshow(cm)\n",
    "ax.set_xticks(np.arange(10)), ax.set_yticks(np.arange(10))\n",
    "ax.set_xticklabels(list(fmnist_classes.values()), rotation=45, ha=\"right\")\n",
    "ax.set_yticklabels(list(fmnist_classes.values()))\n",
    "ax.set_ylabel('True')\n",
    "ax.set_xlabel('Predicted')\n",
    "for i in range(100):\n",
    "    ax.text(int(i/10),i%10,cm[i%10,int(i/10)], ha=\"center\", va=\"center\", color=\"w\")"
   ]
  },
  {
   "cell_type": "markdown",
   "id": "gDTeVUEGJzsc",
   "metadata": {
    "id": "gDTeVUEGJzsc"
   },
   "source": [
    "## Interpreting model parameters\n",
    "Finally, we'll take a closer look at the model parameters, i.e. the coefficients of our linear models. Since we are dealing with 28x28 pixel images, we have to learn 784 coefficients. What do these coefficients mean? We'll start by plotting them as 28x28 pixel images."
   ]
  },
  {
   "cell_type": "markdown",
   "id": "shLuvJvWJzsc",
   "metadata": {
    "id": "shLuvJvWJzsc"
   },
   "source": [
    "### Question 10\n",
    "Train a Logistic Regression model using its tuned hyperparameter from gridsearch used above.\n",
    "When in doubt, use `C=1e-7` for LogReg.\n",
    "Pass the trained model to the provided plotting function. Interpret the results in detail. \n",
    "Why do you get multiple plots per model? What do the features represent in your data. \n",
    "Does it seems like the models pay attention to the right features?\n",
    "Do you models seem to ignore certain features? Do you observe differences in quality between the different classes?"
   ]
  },
  {
   "cell_type": "code",
   "execution_count": null,
   "id": "1oxLxK3qJzsd",
   "metadata": {
    "id": "1oxLxK3qJzsd"
   },
   "outputs": [],
   "source": [
    "# Plots the coefficients of the given model as 28x28 heatmaps. \n",
    "# The `name` attribute is optional, it is simply a title for the produced figure\n",
    "def plot_coefficients(model, name=None):\n",
    "    fig, axes = plt.subplots(1,10,figsize=(20,2))\n",
    "    fig.suptitle(name if name else model.__class__.__name__)\n",
    "    for i, ax in enumerate(axes):\n",
    "        m = ax.imshow(model.coef_[i].reshape(28,28))\n",
    "        ax.set_xlabel(fmnist_classes[i])\n",
    "        ax.set_xticks(()), ax.set_yticks(())\n",
    "    fig.colorbar(m, ax=axes.ravel().tolist())"
   ]
  },
  {
   "cell_type": "code",
   "execution_count": null,
   "id": "OGO7DjPvJzse",
   "metadata": {
    "id": "OGO7DjPvJzse"
   },
   "outputs": [],
   "source": [
    "##### Call on the function plot_coefficients using your trained model\n"
   ]
  },
  {
   "cell_type": "markdown",
   "id": "GeLQTvVIJzsf",
   "metadata": {
    "id": "GeLQTvVIJzsf"
   },
   "source": [
    "**Hint** that linear models are typically binary classifiers. They will solve multi-class problems in a one-vs-all approach. Hence, for a 10-class problem, they will build 10 models, each one trained to predict whether an instance is from a specific class or not. This leads to 10 sets of 784 trained coefficients. Above, we plot them as 28x28 matrices, such that each coefficient is plotted at the location of their corresponding pixel value."
   ]
  },
  {
   "cell_type": "markdown",
   "id": "jbYjLJ-XTG9s",
   "metadata": {
    "id": "jbYjLJ-XTG9s"
   },
   "source": [
    "**Answer:**"
   ]
  },
  {
   "cell_type": "markdown",
   "id": "5V55KXKOJzsf",
   "metadata": {
    "id": "5V55KXKOJzsf"
   },
   "source": [
    "### Question 11\n",
    "Finally, out of curiosity, let's see the result of underfitting and overfitting on the learned coefficients:\n",
    "Repeat the previous exercise, only with logistic regression. In addition to a tuned version, also add a model that overfits a lot and one that underfits a lot. Interpret and explain the results."
   ]
  },
  {
   "cell_type": "markdown",
   "id": "YQ4hPpFkJzsg",
   "metadata": {
    "id": "YQ4hPpFkJzsg"
   },
   "source": [
    "In the cell below replace the ####### with your trained models with different alphas."
   ]
  },
  {
   "cell_type": "code",
   "execution_count": null,
   "id": "rIbpggr1Jzsg",
   "metadata": {
    "id": "rIbpggr1Jzsg"
   },
   "outputs": [],
   "source": [
    "plot_coefficients(#############,\"Underfitting logistic regression\")\n",
    "plot_coefficients(#############,\"Good fit logistic regression\")\n",
    "plot_coefficients(#############,\"Overfitting logistic regression\")"
   ]
  },
  {
   "cell_type": "markdown",
   "id": "mBfrcVYVJzsg",
   "metadata": {
    "id": "mBfrcVYVJzsg"
   },
   "source": [
    "**Answer:**"
   ]
  }
 ],
 "metadata": {
  "colab": {
   "name": "Assignment-2 .ipynb",
   "provenance": []
  },
  "kernelspec": {
   "display_name": "Python 3 (ipykernel)",
   "language": "python",
   "name": "python3"
  },
  "language_info": {
   "codemirror_mode": {
    "name": "ipython",
    "version": 3
   },
   "file_extension": ".py",
   "mimetype": "text/x-python",
   "name": "python",
   "nbconvert_exporter": "python",
   "pygments_lexer": "ipython3",
   "version": "3.8.12"
  }
 },
 "nbformat": 4,
 "nbformat_minor": 5
}
