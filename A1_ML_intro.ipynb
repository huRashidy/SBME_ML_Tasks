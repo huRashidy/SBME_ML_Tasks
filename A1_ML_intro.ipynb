{
 "cells": [
  {
   "cell_type": "markdown",
   "id": "de24fb44-f309-4b05-833d-d9c98d441069",
   "metadata": {
    "tags": []
   },
   "source": [
    "---\n",
    "# Cairo University Faculty of Engineering\n",
    "## Machine Learning \n",
    "## Assignment 1 \n",
    "\n",
    "---"
   ]
  },
  {
   "cell_type": "markdown",
   "id": "04b5d1a1-4378-4074-87ab-2f2c669440e9",
   "metadata": {},
   "source": [
    "Please write your full name here\n",
    "- **Name** : \"-----------\""
   ]
  },
  {
   "cell_type": "markdown",
   "id": "b21dd90e-5130-4c0f-8dd9-d13a5065db88",
   "metadata": {},
   "source": [
    "## Introduction to Machine Learning\n",
    "For this assignment, you will be using the Breast Cancer Wisconsin (Diagnostic) Database to create a classifier that can help diagnose patients. First, read through the description of the dataset (below)."
   ]
  },
  {
   "cell_type": "code",
   "execution_count": 2,
   "id": "68e651ae-cf60-4e23-aa51-4ca39dd77573",
   "metadata": {},
   "outputs": [],
   "source": [
    "import numpy as np\n",
    "import pandas as pd\n",
    "from sklearn.datasets import load_breast_cancer\n",
    "\n",
    "cancer = load_breast_cancer()\n",
    "\n",
    "#print(cancer.DESCR) # Print the data set description"
   ]
  },
  {
   "cell_type": "markdown",
   "id": "2351a51c-3694-43d8-92c6-7c236b1beb3e",
   "metadata": {},
   "source": [
    "The object returned by `load_breast_cancer()` is a scikit-learn Bunch object, which is similar to a dictionary."
   ]
  },
  {
   "cell_type": "code",
   "execution_count": 4,
   "id": "fe395f5a-c610-4171-be0a-bb31d8f5d452",
   "metadata": {},
   "outputs": [
    {
     "data": {
      "text/plain": [
       "dict_keys(['data', 'target', 'frame', 'target_names', 'DESCR', 'feature_names', 'filename'])"
      ]
     },
     "execution_count": 4,
     "metadata": {},
     "output_type": "execute_result"
    }
   ],
   "source": [
    "cancer.keys()"
   ]
  },
  {
   "cell_type": "markdown",
   "id": "1892678c-6743-4719-ac12-2c8775c35969",
   "metadata": {},
   "source": [
    "### Question 0\n",
    "\n",
    "How many features does the breast cancer dataset have?\n",
    "\n",
    "*This function should return an integer.*"
   ]
  },
  {
   "cell_type": "code",
   "execution_count": null,
   "id": "f5a2a53b-71b5-4f24-a7c5-9523a2f28cdd",
   "metadata": {},
   "outputs": [],
   "source": [
    "def answer_zero():\n",
    "    # write your answer code here to question 0\n",
    "    return # Return your answer"
   ]
  },
  {
   "cell_type": "markdown",
   "id": "4f4a4289-dc2f-498a-8305-afe03ff24714",
   "metadata": {},
   "source": [
    "### Question 1\n",
    "Pandas dataframes are much easier and more interpretable when dealing with tables. **Convert the cancer data into dataframe.**\n",
    "\n",
    "Note: Scikit-learn works with lists, numpy arrays, scipy-sparse matrices, and pandas DataFrames, so converting the dataset to a DataFrame is not necessary for training any model.\n",
    "\n",
    "*This function should return a (569, 31) DataFrame with *\n",
    "\n",
    "*columns = *\n",
    "\n",
    "    ['mean radius', 'mean texture', 'mean perimeter', 'mean area',\n",
    "    'mean smoothness', 'mean compactness', 'mean concavity',\n",
    "    'mean concave points', 'mean symmetry', 'mean fractal dimension',\n",
    "    'radius error', 'texture error', 'perimeter error', 'area error',\n",
    "    'smoothness error', 'compactness error', 'concavity error',\n",
    "    'concave points error', 'symmetry error', 'fractal dimension error',\n",
    "    'worst radius', 'worst texture', 'worst perimeter', 'worst area',\n",
    "    'worst smoothness', 'worst compactness', 'worst concavity',\n",
    "    'worst concave points', 'worst symmetry', 'worst fractal dimension',\n",
    "    'target']\n",
    "    \n",
    "*and index = *\n",
    "\n",
    "RangeIndex(start=0, stop=569, step=1)"
   ]
  },
  {
   "cell_type": "code",
   "execution_count": null,
   "id": "233db5f6-d74f-42ee-b6c3-537447effcab",
   "metadata": {},
   "outputs": [],
   "source": [
    "def answer_one():\n",
    "    \n",
    "    # Your code here\n",
    "    \n",
    "    return # Return your answer\n",
    "\n",
    "\n",
    "answer_one()"
   ]
  },
  {
   "cell_type": "markdown",
   "id": "8e4add0a-d9d3-4052-bcf2-56b61c4bf53f",
   "metadata": {},
   "source": [
    "### Question 2\n",
    "What is the class distribution? (i.e. how many instances of `malignant` and how many `benign`?)"
   ]
  },
  {
   "cell_type": "code",
   "execution_count": null,
   "id": "514559d7-5afe-4e40-aca8-c257dca18a5f",
   "metadata": {},
   "outputs": [],
   "source": [
    "def answer_two():\n",
    "    cancerdf = answer_one()\n",
    "    \n",
    "    # Your code here\n",
    "    \n",
    "    return # Return your answer\n",
    "\n",
    "\n",
    "answer_two()"
   ]
  },
  {
   "cell_type": "markdown",
   "id": "5c8cc5ea-3c4b-45aa-98a3-255d5b2a1b77",
   "metadata": {},
   "source": [
    "### Question 3\n",
    "Split the DataFrame into `X` (the data) and `y` (the labels)."
   ]
  },
  {
   "cell_type": "code",
   "execution_count": null,
   "id": "44a936d7-b539-4311-a137-d0304610dd09",
   "metadata": {},
   "outputs": [],
   "source": [
    "def answer_three():\n",
    "    cancerdf = answer_one()\n",
    "    \n",
    "    # Your code here\n",
    "    \n",
    "    return X, y"
   ]
  },
  {
   "cell_type": "markdown",
   "id": "0f3336f9-9517-4a9a-91ca-fba2bb25d6dc",
   "metadata": {},
   "source": [
    "### Question 4\n",
    "Using `train_test_split`, split `X` and `y` into training and test sets"
   ]
  },
  {
   "cell_type": "code",
   "execution_count": null,
   "id": "180b69e2-b4cb-488f-909e-79cee866fa4f",
   "metadata": {},
   "outputs": [],
   "source": [
    "from sklearn.model_selection import train_test_split\n",
    "\n",
    "def answer_four():\n",
    "    X, y = answer_three()\n",
    "    \n",
    "    # Your code here\n",
    "    \n",
    "    return X_train, X_test, y_train, y_test"
   ]
  },
  {
   "cell_type": "markdown",
   "id": "bcb50095-8bec-4d75-9160-8338f9801dae",
   "metadata": {},
   "source": [
    "### Question 5\n",
    "Using KNeighborsClassifier, fit a k-nearest neighbors (knn) classifier with `X_train`, `y_train`."
   ]
  },
  {
   "cell_type": "code",
   "execution_count": null,
   "id": "a6e5acd3-af98-4ab7-b309-40b319f9bf33",
   "metadata": {},
   "outputs": [],
   "source": [
    "from sklearn.neighbors import KNeighborsClassifier\n",
    "\n",
    "def answer_five():\n",
    "    X_train, X_test, y_train, y_test = answer_four()\n",
    "    \n",
    "    # Your code here\n",
    "    \n",
    "    return # Return your answer"
   ]
  },
  {
   "cell_type": "markdown",
   "id": "55dbd498-cb23-4cab-9138-c4b7e7db82c1",
   "metadata": {},
   "source": [
    "### Question 6\n",
    "Using your knn classifier, predict the class label using the median value for each feature."
   ]
  },
  {
   "cell_type": "code",
   "execution_count": null,
   "id": "e6d989ab-6fd5-440a-933f-b6c6ff1072b4",
   "metadata": {},
   "outputs": [],
   "source": [
    "def answer_six():\n",
    "    cancerdf = answer_one()    \n",
    "    # Your code here\n",
    "    \n",
    "    return # Return your answer"
   ]
  },
  {
   "cell_type": "markdown",
   "id": "07065db3-e464-473f-ab71-dbfeeee097f6",
   "metadata": {},
   "source": [
    "### Question 7\n",
    "Using your knn classifier, predict the class labels for the test set `X_test`."
   ]
  },
  {
   "cell_type": "code",
   "execution_count": null,
   "id": "8f4b7833-53ee-4a3d-8dea-ad654cf3d47f",
   "metadata": {},
   "outputs": [],
   "source": [
    "def answer_seven():\n",
    "    X_train, X_test, y_train, y_test = answer_four()\n",
    "    knn = answer_five()\n",
    "    \n",
    "    # Your code here\n",
    "    \n",
    "    return # Return your answer"
   ]
  },
  {
   "cell_type": "markdown",
   "id": "42288a73-b635-402d-8c26-229dc49c79f8",
   "metadata": {},
   "source": [
    "### Question 8\n",
    "Find the score (accuracy) of your knn classifier using `X_test` and `y_test` & `X_train` and `y_train`. \n",
    "- Is the training accuracy higher or lower that the testing accuracy? \n",
    "- According to the test accuracy, would this model generalize well to new inputs?"
   ]
  },
  {
   "cell_type": "code",
   "execution_count": null,
   "id": "27fa57dd-8326-4fe7-9110-4b5ba3d921fe",
   "metadata": {},
   "outputs": [],
   "source": [
    "def answer_eight():\n",
    "    X_train, X_test, y_train, y_test = answer_four()\n",
    "    knn = answer_five()\n",
    "    \n",
    "    # Your code here\n",
    "    \n",
    "    return # Return your answer"
   ]
  },
  {
   "cell_type": "markdown",
   "id": "cb4d1ae2-967b-4df0-9bf0-2872b0c53535",
   "metadata": {},
   "source": [
    "### Question 9\n",
    "##### Accuracy Plot\n",
    "* Create `mal_train_X`, `mal_train_y`,`ben_train_X`,`ben_train_y`, `mal_test_X`,`mal_test_y`, `ben_test_X` and `ben_test_y` portions of the dataset. Where `mal_train_X` contains all training samples that belongs to malignant class while `mal_train_y` contains all labels of the samples that belongs to malignant class, and so on for other variables.\n",
    "\n",
    "* Calculate Accuracy scores for each case and save all the results in a list called `scores` using knn model from question 5.\n",
    "\n",
    "Try using the plotting function below to visualize the differet predicition scores between training and test sets, as well as malignant and benign cells."
   ]
  },
  {
   "cell_type": "code",
   "execution_count": 5,
   "id": "830729b6-9aa7-46c5-8cd1-04a3a7408f3a",
   "metadata": {},
   "outputs": [],
   "source": [
    "def accuracy_plot():\n",
    "    import matplotlib.pyplot as plt\n",
    "\n",
    "    %matplotlib notebook\n",
    "\n",
    "    X_train, X_test, y_train, y_test = answer_four()\n",
    "\n",
    "    # Find the training and testing accuracies by target value (i.e. malignant, benign)\n",
    "    \n",
    "    # #################################################################################\n",
    "    # ###################### Write your code here #####################################\n",
    "    # #################################################################################\n",
    "    \n",
    "    mal_train_X = \n",
    "    mal_train_y = \n",
    "    ben_train_X = \n",
    "    ben_train_y = \n",
    "\n",
    "    mal_test_X = \n",
    "    mal_test_y = \n",
    "    ben_test_X = X_test[y_test==1]\n",
    "    ben_test_y = y_test[y_test==1]\n",
    "\n",
    "    knn = answer_five()\n",
    "\n",
    "    scores =\n",
    "    \n",
    "\n",
    "    plt.figure()\n",
    "\n",
    "    # Plot the scores as a bar chart\n",
    "    bars = plt.bar(np.arange(4), scores, color=['#4c72b0','#4c72b0','#55a868','#55a868'])\n",
    "\n",
    "    # directly label the score onto the bars\n",
    "    for bar in bars:\n",
    "        height = bar.get_height()\n",
    "        plt.gca().text(bar.get_x() + bar.get_width()/2, height*.90, '{0:.{1}f}'.format(height, 2), \n",
    "                     ha='center', color='w', fontsize=11)\n",
    "\n",
    "    # remove all the ticks (both axes), and tick labels on the Y axis\n",
    "    plt.tick_params(top='off', bottom='off', left='off', right='off', labelleft='off', labelbottom='on')\n",
    "\n",
    "    # remove the frame of the chart\n",
    "    for spine in plt.gca().spines.values():\n",
    "        spine.set_visible(False)\n",
    "\n",
    "    plt.xticks([0,1,2,3], ['Malignant\\nTraining', 'Benign\\nTraining', 'Malignant\\nTest', 'Benign\\nTest'], alpha=0.8);\n",
    "    plt.title('Training and Test Accuracies for Malignant and Benign Cells', alpha=0.8)"
   ]
  },
  {
   "cell_type": "code",
   "execution_count": null,
   "id": "75e16042-fcea-4769-87cb-3d289ebcd479",
   "metadata": {},
   "outputs": [],
   "source": [
    "accuracy_plot() "
   ]
  },
  {
   "cell_type": "markdown",
   "id": "d3dda16d-0a7f-4376-a1e6-a82ca8b8e6eb",
   "metadata": {},
   "source": [
    "### Question 10\n",
    "1. Load Iris dataset from sklearn.\n",
    "2. Split the data into training and testing (30% testing)\n",
    "3. Create scatter plot.\n",
    "4. From the scatter plot choose two features only to train a knn model with suitable \"k\" of your choice.\n",
    "5. Evaluate your model performance and comment on your results."
   ]
  }
 ],
 "metadata": {
  "kernelspec": {
   "display_name": "Python 3 (ipykernel)",
   "language": "python",
   "name": "python3"
  },
  "language_info": {
   "codemirror_mode": {
    "name": "ipython",
    "version": 3
   },
   "file_extension": ".py",
   "mimetype": "text/x-python",
   "name": "python",
   "nbconvert_exporter": "python",
   "pygments_lexer": "ipython3",
   "version": "3.9.10"
  }
 },
 "nbformat": 4,
 "nbformat_minor": 5
}
